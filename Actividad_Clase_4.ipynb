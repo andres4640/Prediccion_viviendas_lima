{
  "nbformat": 4,
  "nbformat_minor": 0,
  "metadata": {
    "colab": {
      "name": "Actividad - Clase 4.ipynb",
      "provenance": [],
      "collapsed_sections": [],
      "toc_visible": true,
      "authorship_tag": "ABX9TyNKTrAZoUP7Oxii83a2a3is",
      "include_colab_link": true
    },
    "kernelspec": {
      "name": "python3",
      "display_name": "Python 3"
    }
  },
  "cells": [
    {
      "cell_type": "markdown",
      "metadata": {
        "id": "view-in-github",
        "colab_type": "text"
      },
      "source": [
        "<a href=\"https://colab.research.google.com/github/andres4640/Prediccion_viviendas_lima/blob/EA/Actividad_Clase_4.ipynb\" target=\"_parent\"><img src=\"https://colab.research.google.com/assets/colab-badge.svg\" alt=\"Open In Colab\"/></a>"
      ]
    },
    {
      "cell_type": "code",
      "metadata": {
        "id": "eQ9ZJzD0WN0u"
      },
      "source": [
        "import pandas as pd\r\n",
        "import numpy as np\r\n",
        "import matplotlib.pyplot as plt"
      ],
      "execution_count": null,
      "outputs": []
    },
    {
      "cell_type": "code",
      "metadata": {
        "id": "5oxfV1mxXrzq"
      },
      "source": [
        "dataset = pd.read_csv(\"viviendas.csv\", index_col=0)"
      ],
      "execution_count": null,
      "outputs": []
    },
    {
      "cell_type": "markdown",
      "metadata": {
        "id": "gSz6j_V9g2yM"
      },
      "source": [
        "# Clase 4 - Actividad"
      ]
    },
    {
      "cell_type": "markdown",
      "metadata": {
        "id": "jyv3R6dwhUCf"
      },
      "source": [
        "**Posibles acciones:**\r\n",
        "- Mostrar las viviendas que tengan un Precio menor a 800 soles y que tenga un Area mayor a 150.\r\n",
        "- Crear una nueva columna llamada \"Tamaño\":\r\n",
        "  - Si la vivienda tiene un Area menor o igual a 70 metros, asignar como valor \"Pequeño\".\r\n",
        "  - Si la vivienda tiene un Area mayor a 70 metros y menor o igual a 140 metros, asignar como valor \"Mediano\".\r\n",
        "  - Si la vivienda tiene un Area mayor a 140 metros, asignar como valor \"Grande\".\r\n",
        "\r\n",
        "- Grafico de Pie que muestre la proporción de viviendas por Distrito.\r\n",
        "\r\n",
        "- Histograma que muestre la distribución de la columna \"Area\".\r\n",
        "\r\n",
        "- Distribución de los precios en los diferentes distritos.\r\n",
        "\r\n",
        "- Gráfico Scatter que muestre la correlación entre dos variables."
      ]
    }
  ]
}