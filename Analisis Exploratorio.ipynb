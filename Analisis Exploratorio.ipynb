{
 "cells": [
  {
   "cell_type": "code",
   "execution_count": 1,
   "metadata": {},
   "outputs": [],
   "source": [
    "import pandas as pd\n",
    "import numpy as np\n",
    "import matplotlib.pyplot as plt\n",
    "import seaborn as sns"
   ]
  },
  {
   "cell_type": "code",
   "execution_count": 2,
   "metadata": {
    "scrolled": true
   },
   "outputs": [],
   "source": [
    "%matplotlib inline"
   ]
  },
  {
   "cell_type": "code",
   "execution_count": 3,
   "metadata": {},
   "outputs": [],
   "source": [
    "df = pd.read_csv(\"Clean_data.csv\")"
   ]
  },
  {
   "cell_type": "code",
   "execution_count": 4,
   "metadata": {},
   "outputs": [
    {
     "data": {
      "text/html": [
       "<div>\n",
       "<style scoped>\n",
       "    .dataframe tbody tr th:only-of-type {\n",
       "        vertical-align: middle;\n",
       "    }\n",
       "\n",
       "    .dataframe tbody tr th {\n",
       "        vertical-align: top;\n",
       "    }\n",
       "\n",
       "    .dataframe thead th {\n",
       "        text-align: right;\n",
       "    }\n",
       "</style>\n",
       "<table border=\"1\" class=\"dataframe\">\n",
       "  <thead>\n",
       "    <tr style=\"text-align: right;\">\n",
       "      <th></th>\n",
       "      <th>Precio</th>\n",
       "      <th>NCuartos</th>\n",
       "      <th>Area</th>\n",
       "      <th>NBaños</th>\n",
       "      <th>Distrito</th>\n",
       "      <th>Amoblado</th>\n",
       "      <th>Mantenimiento</th>\n",
       "      <th>Cochera</th>\n",
       "      <th>Azotea</th>\n",
       "    </tr>\n",
       "  </thead>\n",
       "  <tbody>\n",
       "    <tr>\n",
       "      <td>count</td>\n",
       "      <td>4266.000000</td>\n",
       "      <td>4216.000000</td>\n",
       "      <td>4132.000000</td>\n",
       "      <td>4124.000000</td>\n",
       "      <td>4243</td>\n",
       "      <td>1703</td>\n",
       "      <td>1260.000000</td>\n",
       "      <td>871.000000</td>\n",
       "      <td>4267</td>\n",
       "    </tr>\n",
       "    <tr>\n",
       "      <td>unique</td>\n",
       "      <td>NaN</td>\n",
       "      <td>NaN</td>\n",
       "      <td>NaN</td>\n",
       "      <td>NaN</td>\n",
       "      <td>41</td>\n",
       "      <td>4</td>\n",
       "      <td>NaN</td>\n",
       "      <td>NaN</td>\n",
       "      <td>2</td>\n",
       "    </tr>\n",
       "    <tr>\n",
       "      <td>top</td>\n",
       "      <td>NaN</td>\n",
       "      <td>NaN</td>\n",
       "      <td>NaN</td>\n",
       "      <td>NaN</td>\n",
       "      <td>Miraflores</td>\n",
       "      <td>Amoblado: Sin amoblar</td>\n",
       "      <td>NaN</td>\n",
       "      <td>NaN</td>\n",
       "      <td>no</td>\n",
       "    </tr>\n",
       "    <tr>\n",
       "      <td>freq</td>\n",
       "      <td>NaN</td>\n",
       "      <td>NaN</td>\n",
       "      <td>NaN</td>\n",
       "      <td>NaN</td>\n",
       "      <td>1317</td>\n",
       "      <td>791</td>\n",
       "      <td>NaN</td>\n",
       "      <td>NaN</td>\n",
       "      <td>4048</td>\n",
       "    </tr>\n",
       "    <tr>\n",
       "      <td>mean</td>\n",
       "      <td>2818.848865</td>\n",
       "      <td>2.430503</td>\n",
       "      <td>121.424976</td>\n",
       "      <td>2.225752</td>\n",
       "      <td>NaN</td>\n",
       "      <td>NaN</td>\n",
       "      <td>314.865873</td>\n",
       "      <td>1.454650</td>\n",
       "      <td>NaN</td>\n",
       "    </tr>\n",
       "    <tr>\n",
       "      <td>std</td>\n",
       "      <td>27549.283309</td>\n",
       "      <td>0.902565</td>\n",
       "      <td>85.628266</td>\n",
       "      <td>0.977906</td>\n",
       "      <td>NaN</td>\n",
       "      <td>NaN</td>\n",
       "      <td>198.622341</td>\n",
       "      <td>0.711126</td>\n",
       "      <td>NaN</td>\n",
       "    </tr>\n",
       "    <tr>\n",
       "      <td>min</td>\n",
       "      <td>0.000000</td>\n",
       "      <td>1.000000</td>\n",
       "      <td>1.000000</td>\n",
       "      <td>1.000000</td>\n",
       "      <td>NaN</td>\n",
       "      <td>NaN</td>\n",
       "      <td>1.000000</td>\n",
       "      <td>1.000000</td>\n",
       "      <td>NaN</td>\n",
       "    </tr>\n",
       "    <tr>\n",
       "      <td>25%</td>\n",
       "      <td>581.655000</td>\n",
       "      <td>2.000000</td>\n",
       "      <td>72.000000</td>\n",
       "      <td>2.000000</td>\n",
       "      <td>NaN</td>\n",
       "      <td>NaN</td>\n",
       "      <td>180.000000</td>\n",
       "      <td>1.000000</td>\n",
       "      <td>NaN</td>\n",
       "    </tr>\n",
       "    <tr>\n",
       "      <td>50%</td>\n",
       "      <td>806.110000</td>\n",
       "      <td>3.000000</td>\n",
       "      <td>98.000000</td>\n",
       "      <td>2.000000</td>\n",
       "      <td>NaN</td>\n",
       "      <td>NaN</td>\n",
       "      <td>290.000000</td>\n",
       "      <td>1.000000</td>\n",
       "      <td>NaN</td>\n",
       "    </tr>\n",
       "    <tr>\n",
       "      <td>75%</td>\n",
       "      <td>1250.000000</td>\n",
       "      <td>3.000000</td>\n",
       "      <td>140.000000</td>\n",
       "      <td>3.000000</td>\n",
       "      <td>NaN</td>\n",
       "      <td>NaN</td>\n",
       "      <td>420.000000</td>\n",
       "      <td>2.000000</td>\n",
       "      <td>NaN</td>\n",
       "    </tr>\n",
       "    <tr>\n",
       "      <td>max</td>\n",
       "      <td>897843.100000</td>\n",
       "      <td>8.000000</td>\n",
       "      <td>820.000000</td>\n",
       "      <td>7.000000</td>\n",
       "      <td>NaN</td>\n",
       "      <td>NaN</td>\n",
       "      <td>996.000000</td>\n",
       "      <td>10.000000</td>\n",
       "      <td>NaN</td>\n",
       "    </tr>\n",
       "  </tbody>\n",
       "</table>\n",
       "</div>"
      ],
      "text/plain": [
       "               Precio     NCuartos         Area       NBaños    Distrito  \\\n",
       "count     4266.000000  4216.000000  4132.000000  4124.000000        4243   \n",
       "unique            NaN          NaN          NaN          NaN          41   \n",
       "top               NaN          NaN          NaN          NaN  Miraflores   \n",
       "freq              NaN          NaN          NaN          NaN        1317   \n",
       "mean      2818.848865     2.430503   121.424976     2.225752         NaN   \n",
       "std      27549.283309     0.902565    85.628266     0.977906         NaN   \n",
       "min          0.000000     1.000000     1.000000     1.000000         NaN   \n",
       "25%        581.655000     2.000000    72.000000     2.000000         NaN   \n",
       "50%        806.110000     3.000000    98.000000     2.000000         NaN   \n",
       "75%       1250.000000     3.000000   140.000000     3.000000         NaN   \n",
       "max     897843.100000     8.000000   820.000000     7.000000         NaN   \n",
       "\n",
       "                     Amoblado  Mantenimiento     Cochera Azotea  \n",
       "count                    1703    1260.000000  871.000000   4267  \n",
       "unique                      4            NaN         NaN      2  \n",
       "top     Amoblado: Sin amoblar            NaN         NaN     no  \n",
       "freq                      791            NaN         NaN   4048  \n",
       "mean                      NaN     314.865873    1.454650    NaN  \n",
       "std                       NaN     198.622341    0.711126    NaN  \n",
       "min                       NaN       1.000000    1.000000    NaN  \n",
       "25%                       NaN     180.000000    1.000000    NaN  \n",
       "50%                       NaN     290.000000    1.000000    NaN  \n",
       "75%                       NaN     420.000000    2.000000    NaN  \n",
       "max                       NaN     996.000000   10.000000    NaN  "
      ]
     },
     "execution_count": 4,
     "metadata": {},
     "output_type": "execute_result"
    }
   ],
   "source": [
    "df.describe(include=\"all\")"
   ]
  },
  {
   "cell_type": "code",
   "execution_count": 5,
   "metadata": {},
   "outputs": [],
   "source": [
    "df_clean = df.copy()"
   ]
  },
  {
   "cell_type": "markdown",
   "metadata": {},
   "source": [
    "# Tratamiento de Nulos"
   ]
  },
  {
   "cell_type": "markdown",
   "metadata": {},
   "source": [
    "## Amoblado:\n",
    "\n",
    "- NAN -> 0\n",
    "- Sin Amoblar -> 0\n",
    "- Semi-amoblado -> 1\n",
    "- Amoblado -> 2"
   ]
  },
  {
   "cell_type": "code",
   "execution_count": 6,
   "metadata": {
    "scrolled": true
   },
   "outputs": [
    {
     "data": {
      "text/plain": [
       "NaN                        2564\n",
       "Amoblado: Sin amoblar       791\n",
       "Amoblado: Amoblado          756\n",
       "Amoblado: Semi-amoblado     149\n",
       "Amoblado                      7\n",
       "Name: Amoblado, dtype: int64"
      ]
     },
     "execution_count": 6,
     "metadata": {},
     "output_type": "execute_result"
    }
   ],
   "source": [
    "df_clean[\"Amoblado\"].value_counts(dropna=False)"
   ]
  },
  {
   "cell_type": "code",
   "execution_count": 7,
   "metadata": {},
   "outputs": [],
   "source": [
    "df_clean[\"Amoblado\"] = df_clean[\"Amoblado\"].str.replace(\"Amoblado:\", \"\").str.strip()"
   ]
  },
  {
   "cell_type": "code",
   "execution_count": 8,
   "metadata": {},
   "outputs": [],
   "source": [
    "def limpiar_amoblado(row):\n",
    "    if row is None or row == \"Sin amoblar\":\n",
    "        row = 0\n",
    "    elif row == \"Semi-amoblado\":\n",
    "        row = 1\n",
    "    elif row == \"Amoblado\":\n",
    "        row = 2\n",
    "    return row \n",
    "df_clean[\"Amoblado\"] = df_clean[\"Amoblado\"].apply(limpiar_amoblado)\n",
    "df_clean[\"Amoblado\"] = df_clean[\"Amoblado\"].replace(np.nan, 0)"
   ]
  },
  {
   "cell_type": "markdown",
   "metadata": {},
   "source": [
    "## Azotea"
   ]
  },
  {
   "cell_type": "code",
   "execution_count": 9,
   "metadata": {},
   "outputs": [
    {
     "data": {
      "text/plain": [
       "0       0\n",
       "1       0\n",
       "2       1\n",
       "3       0\n",
       "4       0\n",
       "       ..\n",
       "4262    0\n",
       "4263    0\n",
       "4264    0\n",
       "4265    0\n",
       "4266    0\n",
       "Name: Azotea, Length: 4267, dtype: int64"
      ]
     },
     "execution_count": 9,
     "metadata": {},
     "output_type": "execute_result"
    }
   ],
   "source": [
    "df_clean[\"Azotea\"] = df_clean[\"Azotea\"].apply(lambda x: 1 if x==\"si\" else 0)\n",
    "df_clean[\"Azotea\"]"
   ]
  },
  {
   "cell_type": "markdown",
   "metadata": {},
   "source": [
    "## Cochera"
   ]
  },
  {
   "cell_type": "code",
   "execution_count": 10,
   "metadata": {},
   "outputs": [],
   "source": [
    "df_clean[\"Cochera\"] = df_clean[\"Cochera\"].replace(np.nan, 0)"
   ]
  },
  {
   "cell_type": "markdown",
   "metadata": {},
   "source": [
    "## Precio\n",
    "- Precio\n",
    "- NCuartos\n",
    "- Area\n",
    "- Distrito\n",
    "- NBaños\n",
    "\n",
    "Numero total de filas antes: 4266\n",
    "\n",
    "Numero total de filas despues: 3953\n",
    "\n",
    "Se reduce un 7.3% del total de datos"
   ]
  },
  {
   "cell_type": "code",
   "execution_count": 11,
   "metadata": {},
   "outputs": [],
   "source": [
    "df_clean.dropna(subset=[\"Precio\", \"NCuartos\", \"Area\", \"Distrito\", \"NBaños\"], axis=0, inplace=True)"
   ]
  },
  {
   "cell_type": "markdown",
   "metadata": {},
   "source": [
    "Eliminamos la columna \"Mantenimiento\", ya que el numero de valores Nulos es mayor al 50% del total."
   ]
  },
  {
   "cell_type": "code",
   "execution_count": 12,
   "metadata": {},
   "outputs": [],
   "source": [
    "df_clean.dropna(axis=1, inplace=True)"
   ]
  },
  {
   "cell_type": "markdown",
   "metadata": {},
   "source": [
    "Reiniciamos el index del DataFrame, ya que al limpiar los datos se eliminan filas pero el numero de las filas se queda intacto. "
   ]
  },
  {
   "cell_type": "code",
   "execution_count": 13,
   "metadata": {},
   "outputs": [],
   "source": [
    "df_clean.reset_index(drop=True, inplace=True)"
   ]
  },
  {
   "cell_type": "markdown",
   "metadata": {},
   "source": [
    "En la siguiente lista podemos visualizar que ya no quedan valores nulos en las columnas:"
   ]
  },
  {
   "cell_type": "code",
   "execution_count": 14,
   "metadata": {},
   "outputs": [
    {
     "data": {
      "text/plain": [
       "Precio      0\n",
       "NCuartos    0\n",
       "Area        0\n",
       "NBaños      0\n",
       "Distrito    0\n",
       "Amoblado    0\n",
       "Cochera     0\n",
       "Azotea      0\n",
       "dtype: int64"
      ]
     },
     "execution_count": 14,
     "metadata": {},
     "output_type": "execute_result"
    }
   ],
   "source": [
    "df_clean.isnull().sum()"
   ]
  },
  {
   "cell_type": "code",
   "execution_count": 15,
   "metadata": {},
   "outputs": [],
   "source": [
    "df_test = df_clean.copy()"
   ]
  },
  {
   "cell_type": "markdown",
   "metadata": {},
   "source": [
    "# Tratamiento Outliers"
   ]
  },
  {
   "cell_type": "markdown",
   "metadata": {},
   "source": [
    "## Precio \n",
    "\n",
    "Primero vamos a tratar la columna \"Precio\". En el siguiente grafico podemos ver la distribucion de los valores de esta. Se pueden visualizar los outliers en el grafico como circulos vacios:"
   ]
  },
  {
   "cell_type": "code",
   "execution_count": 16,
   "metadata": {
    "scrolled": true
   },
   "outputs": [
    {
     "data": {
      "image/png": "[encoded data removed]",
      "text/plain": [
       "<Figure size 432x288 with 1 Axes>"
      ]
     },
     "metadata": {
      "needs_background": "light"
     },
     "output_type": "display_data"
    }
   ],
   "source": [
    "df_clean.boxplot(\"Precio\")\n",
    "plt.title(\"\")\n",
    "plt.show()"
   ]
  },
  {
   "cell_type": "markdown",
   "metadata": {},
   "source": [
    "Distribucion de los valores de la columna \"Precio\":"
   ]
  },
  {
   "cell_type": "code",
   "execution_count": 17,
   "metadata": {},
   "outputs": [
    {
     "data": {
      "image/png": "[encoded data removed]",
      "text/plain": [
       "<Figure size 432x288 with 1 Axes>"
      ]
     },
     "metadata": {
      "needs_background": "light"
     },
     "output_type": "display_data"
    }
   ],
   "source": [
    "df_clean.hist(\"Precio\")\n",
    "plt.show()"
   ]
  },
  {
   "cell_type": "markdown",
   "metadata": {},
   "source": [
    "Vemos las estadisticas de la columna \"Precio\" para ver cuales son los valores de los cuartiles inferior y superior."
   ]
  },
  {
   "cell_type": "code",
   "execution_count": 18,
   "metadata": {
    "scrolled": true
   },
   "outputs": [
    {
     "data": {
      "text/plain": [
       "count      3953.000000\n",
       "mean       2737.619656\n",
       "std       26304.436384\n",
       "min           0.000000\n",
       "25%         583.740000\n",
       "50%         830.000000\n",
       "75%        1250.000000\n",
       "max      897843.100000\n",
       "Name: Precio, dtype: float64"
      ]
     },
     "execution_count": 18,
     "metadata": {},
     "output_type": "execute_result"
    }
   ],
   "source": [
    "df_clean[\"Precio\"].describe()"
   ]
  },
  {
   "cell_type": "markdown",
   "metadata": {},
   "source": [
    "Eliminamos las filas que tienen como precio igual a 0:"
   ]
  },
  {
   "cell_type": "code",
   "execution_count": null,
   "metadata": {},
   "outputs": [],
   "source": [
    "df_clean = df_clean[df_clean[\"Precio\"] == 0]"
   ]
  },
  {
   "cell_type": "markdown",
   "metadata": {},
   "source": [
    "Para limpiar los outliers, aplicamos la formula del rango intercuartil:\n",
    "\n",
    "- Rango Intercuartil = Cuartil Superior - Cuartil Inferior\n",
    "\n",
    "Luego, calculamos los limites inferior y superior, los valores que se encuentren fuera de este limites son atipicos y seran eliminados."
   ]
  },
  {
   "cell_type": "code",
   "execution_count": 19,
   "metadata": {},
   "outputs": [
    {
     "name": "stdout",
     "output_type": "stream",
     "text": [
      "Valor del Limite inferior  0\n",
      "Valor del Limite superior  2249.39\n"
     ]
    }
   ],
   "source": [
    "rango_intercuartil = df_clean[\"Precio\"].describe()[6] - df_clean[\"Precio\"].describe()[4] \n",
    "limite_superior = df_clean[\"Precio\"].describe()[6]  + rango_intercuartil*1.5\n",
    "limite_inferior = df_clean[\"Precio\"].describe()[4] - rango_intercuartil*1.5\n",
    "limite_inferior = 0\n",
    "print(\"Valor del Limite inferior \", limite_inferior)\n",
    "print(\"Valor del Limite superior \", limite_superior)"
   ]
  },
  {
   "cell_type": "markdown",
   "metadata": {},
   "source": [
    "Los valores que se encuentran entre 0 y 2249.39 seran eliminados. De esta forma, se eliminaran 318 filas."
   ]
  },
  {
   "cell_type": "code",
   "execution_count": 20,
   "metadata": {},
   "outputs": [
    {
     "data": {
      "text/plain": [
       "Precio      318\n",
       "NCuartos    318\n",
       "Area        318\n",
       "NBaños      318\n",
       "Distrito    318\n",
       "Amoblado    318\n",
       "Cochera     318\n",
       "Azotea      318\n",
       "dtype: int64"
      ]
     },
     "execution_count": 20,
     "metadata": {},
     "output_type": "execute_result"
    }
   ],
   "source": [
    "df_clean[df_clean[\"Precio\"] >= 2249.39].count()"
   ]
  },
  {
   "cell_type": "code",
   "execution_count": 21,
   "metadata": {},
   "outputs": [],
   "source": [
    "df_clean = df_clean[df_clean[\"Precio\"] <= 2249.39]"
   ]
  },
  {
   "cell_type": "markdown",
   "metadata": {},
   "source": [
    "Verificamos cuales son los nuevos outliers:"
   ]
  },
  {
   "cell_type": "code",
   "execution_count": 22,
   "metadata": {},
   "outputs": [
    {
     "data": {
      "image/png": "[encoded data removed]",
      "text/plain": [
       "<Figure size 432x288 with 1 Axes>"
      ]
     },
     "metadata": {
      "needs_background": "light"
     },
     "output_type": "display_data"
    }
   ],
   "source": [
    "df_clean.boxplot(\"Precio\")\n",
    "plt.show()"
   ]
  },
  {
   "cell_type": "markdown",
   "metadata": {},
   "source": [
    "La nueva distribucion de la columna \"Precio\":"
   ]
  },
  {
   "cell_type": "code",
   "execution_count": 29,
   "metadata": {},
   "outputs": [
    {
     "data": {
      "text/plain": [
       "Precio      35\n",
       "NCuartos    35\n",
       "Area        35\n",
       "NBaños      35\n",
       "Distrito    35\n",
       "Amoblado    35\n",
       "Cochera     35\n",
       "Azotea      35\n",
       "dtype: int64"
      ]
     },
     "execution_count": 29,
     "metadata": {},
     "output_type": "execute_result"
    }
   ],
   "source": [
    "df_clean[df_clean.Precio == 0].count()"
   ]
  },
  {
   "cell_type": "code",
   "execution_count": 23,
   "metadata": {},
   "outputs": [
    {
     "data": {
      "image/png": "[encoded data removed]",
      "text/plain": [
       "<Figure size 432x288 with 1 Axes>"
      ]
     },
     "metadata": {
      "needs_background": "light"
     },
     "output_type": "display_data"
    }
   ],
   "source": [
    "df_clean.hist(\"Precio\")\n",
    "plt.show()"
   ]
  },
  {
   "cell_type": "markdown",
   "metadata": {},
   "source": [
    "## Numero Baños\n",
    "\n",
    "Ahora eliminaremos los valores outliers en la columna \"NBaños\""
   ]
  },
  {
   "cell_type": "code",
   "execution_count": 24,
   "metadata": {},
   "outputs": [
    {
     "data": {
      "text/plain": [
       "2.0    1610\n",
       "1.0     907\n",
       "3.0     740\n",
       "4.0     227\n",
       "2.5      74\n",
       "1.5      26\n",
       "3.5      24\n",
       "5.0      22\n",
       "6.0       3\n",
       "4.5       2\n",
       "Name: NBaños, dtype: int64"
      ]
     },
     "execution_count": 24,
     "metadata": {},
     "output_type": "execute_result"
    }
   ],
   "source": [
    "df_clean[\"NBaños\"].value_counts()"
   ]
  },
  {
   "cell_type": "code",
   "execution_count": 25,
   "metadata": {},
   "outputs": [
    {
     "data": {
      "text/plain": [
       "count    3635.000000\n",
       "mean        2.118294\n",
       "std         0.884284\n",
       "min         1.000000\n",
       "25%         1.500000\n",
       "50%         2.000000\n",
       "75%         3.000000\n",
       "max         6.000000\n",
       "Name: NBaños, dtype: float64"
      ]
     },
     "execution_count": 25,
     "metadata": {},
     "output_type": "execute_result"
    }
   ],
   "source": [
    "df_clean[\"NBaños\"].describe()"
   ]
  },
  {
   "cell_type": "markdown",
   "metadata": {},
   "source": [
    "Aplicando la formula de Rango Intercuartil, calculamos el limite inferior y superior, y eliminamos los valores atipicos de esta columna:"
   ]
  },
  {
   "cell_type": "code",
   "execution_count": 26,
   "metadata": {
    "scrolled": true
   },
   "outputs": [
    {
     "name": "stdout",
     "output_type": "stream",
     "text": [
      "Valor del Limite inferior  0\n",
      "Valor del Limite superior  5.25\n"
     ]
    }
   ],
   "source": [
    "rango_intercuartil = df_clean[\"NBaños\"].describe()[6] - df_clean[\"NBaños\"].describe()[4] \n",
    "limite_superior = df_clean[\"NBaños\"].describe()[6]  + rango_intercuartil*1.5\n",
    "limite_inferior = df_clean[\"NBaños\"].describe()[4] - rango_intercuartil*1.5\n",
    "limite_inferior = 0\n",
    "print(\"Valor del Limite inferior \", limite_inferior)\n",
    "print(\"Valor del Limite superior \", limite_superior)\n",
    "\n",
    "# Eliminamos outliers:\n",
    "df_clean = df_clean[df_clean[\"NBaños\"] <= 5]"
   ]
  },
  {
   "cell_type": "markdown",
   "metadata": {},
   "source": [
    "## Numero Cuartos"
   ]
  }
 ],
 "metadata": {
  "kernelspec": {
   "display_name": "Python 3",
   "language": "python",
   "name": "python3"
  },
  "language_info": {
   "codemirror_mode": {
    "name": "ipython",
    "version": 3
   },
   "file_extension": ".py",
   "mimetype": "text/x-python",
   "name": "python",
   "nbconvert_exporter": "python",
   "pygments_lexer": "ipython3",
   "version": "3.7.4"
  }
 },
 "nbformat": 4,
 "nbformat_minor": 2
}
