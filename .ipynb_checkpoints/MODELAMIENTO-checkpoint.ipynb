{
 "cells": [
  {
   "cell_type": "markdown",
   "metadata": {},
   "source": [
    "# ENTRENAMIENTO DEL MODELO"
   ]
  },
  {
   "cell_type": "code",
   "execution_count": 1,
   "metadata": {},
   "outputs": [],
   "source": [
    "\n",
    "#import statsmodels.api as sm\n",
    "#from sklearn.feature_selection import RFE\n",
    "\n",
    "#from sklearn.model_selection import GridSearchCV\n"
   ]
  },
  {
   "cell_type": "code",
   "execution_count": 2,
   "metadata": {},
   "outputs": [],
   "source": [
    "import pandas as pd\n",
    "import numpy as np"
   ]
  },
  {
   "cell_type": "markdown",
   "metadata": {},
   "source": [
    "## Separar data de entrenamiento y prueba"
   ]
  },
  {
   "cell_type": "code",
   "execution_count": 3,
   "metadata": {},
   "outputs": [],
   "source": [
    "from sklearn.model_selection import train_test_split"
   ]
  },
  {
   "cell_type": "code",
   "execution_count": 4,
   "metadata": {},
   "outputs": [],
   "source": [
    "data= pd.read_csv('Clean_data.csv')\n",
    "data_train, data_test = train_test_split(data, test_size=0.15,random_state=1) "
   ]
  },
  {
   "cell_type": "code",
   "execution_count": 5,
   "metadata": {},
   "outputs": [
    {
     "data": {
      "text/html": [
       "<div>\n",
       "<style scoped>\n",
       "    .dataframe tbody tr th:only-of-type {\n",
       "        vertical-align: middle;\n",
       "    }\n",
       "\n",
       "    .dataframe tbody tr th {\n",
       "        vertical-align: top;\n",
       "    }\n",
       "\n",
       "    .dataframe thead th {\n",
       "        text-align: right;\n",
       "    }\n",
       "</style>\n",
       "<table border=\"1\" class=\"dataframe\">\n",
       "  <thead>\n",
       "    <tr style=\"text-align: right;\">\n",
       "      <th></th>\n",
       "      <th>index</th>\n",
       "      <th>Unnamed: 0</th>\n",
       "      <th>Precio</th>\n",
       "      <th>NCuartos</th>\n",
       "      <th>Area</th>\n",
       "      <th>NBaños</th>\n",
       "      <th>Distrito</th>\n",
       "      <th>Amoblado</th>\n",
       "      <th>Cochera</th>\n",
       "      <th>Azotea</th>\n",
       "      <th>zona</th>\n",
       "      <th>con_cochera</th>\n",
       "    </tr>\n",
       "  </thead>\n",
       "  <tbody>\n",
       "    <tr>\n",
       "      <td>0</td>\n",
       "      <td>1865</td>\n",
       "      <td>2049</td>\n",
       "      <td>570.00</td>\n",
       "      <td>3.0</td>\n",
       "      <td>60.0</td>\n",
       "      <td>2.0</td>\n",
       "      <td>Surquillo</td>\n",
       "      <td>0.0</td>\n",
       "      <td>0.0</td>\n",
       "      <td>0</td>\n",
       "      <td>8</td>\n",
       "      <td>0</td>\n",
       "    </tr>\n",
       "    <tr>\n",
       "      <td>1</td>\n",
       "      <td>613</td>\n",
       "      <td>662</td>\n",
       "      <td>444.75</td>\n",
       "      <td>1.0</td>\n",
       "      <td>40.0</td>\n",
       "      <td>1.0</td>\n",
       "      <td>Santiago de Surco</td>\n",
       "      <td>0.0</td>\n",
       "      <td>0.0</td>\n",
       "      <td>0</td>\n",
       "      <td>7</td>\n",
       "      <td>0</td>\n",
       "    </tr>\n",
       "    <tr>\n",
       "      <td>2</td>\n",
       "      <td>2136</td>\n",
       "      <td>2353</td>\n",
       "      <td>610.00</td>\n",
       "      <td>1.0</td>\n",
       "      <td>46.0</td>\n",
       "      <td>1.0</td>\n",
       "      <td>San Isidro</td>\n",
       "      <td>0.0</td>\n",
       "      <td>0.0</td>\n",
       "      <td>0</td>\n",
       "      <td>7</td>\n",
       "      <td>0</td>\n",
       "    </tr>\n",
       "    <tr>\n",
       "      <td>3</td>\n",
       "      <td>111</td>\n",
       "      <td>123</td>\n",
       "      <td>750.52</td>\n",
       "      <td>2.0</td>\n",
       "      <td>110.0</td>\n",
       "      <td>3.0</td>\n",
       "      <td>Magdalena del Mar</td>\n",
       "      <td>0.0</td>\n",
       "      <td>1.0</td>\n",
       "      <td>0</td>\n",
       "      <td>6</td>\n",
       "      <td>1</td>\n",
       "    </tr>\n",
       "    <tr>\n",
       "      <td>4</td>\n",
       "      <td>3463</td>\n",
       "      <td>3844</td>\n",
       "      <td>1350.00</td>\n",
       "      <td>2.0</td>\n",
       "      <td>140.0</td>\n",
       "      <td>1.0</td>\n",
       "      <td>Cercado de Lima</td>\n",
       "      <td>0.0</td>\n",
       "      <td>0.0</td>\n",
       "      <td>0</td>\n",
       "      <td>4</td>\n",
       "      <td>0</td>\n",
       "    </tr>\n",
       "    <tr>\n",
       "      <td>...</td>\n",
       "      <td>...</td>\n",
       "      <td>...</td>\n",
       "      <td>...</td>\n",
       "      <td>...</td>\n",
       "      <td>...</td>\n",
       "      <td>...</td>\n",
       "      <td>...</td>\n",
       "      <td>...</td>\n",
       "      <td>...</td>\n",
       "      <td>...</td>\n",
       "      <td>...</td>\n",
       "      <td>...</td>\n",
       "    </tr>\n",
       "    <tr>\n",
       "      <td>3022</td>\n",
       "      <td>2763</td>\n",
       "      <td>3018</td>\n",
       "      <td>1616.12</td>\n",
       "      <td>3.0</td>\n",
       "      <td>175.0</td>\n",
       "      <td>2.0</td>\n",
       "      <td>San Isidro</td>\n",
       "      <td>0.0</td>\n",
       "      <td>0.0</td>\n",
       "      <td>0</td>\n",
       "      <td>7</td>\n",
       "      <td>0</td>\n",
       "    </tr>\n",
       "    <tr>\n",
       "      <td>3023</td>\n",
       "      <td>905</td>\n",
       "      <td>976</td>\n",
       "      <td>1400.00</td>\n",
       "      <td>4.0</td>\n",
       "      <td>177.0</td>\n",
       "      <td>4.0</td>\n",
       "      <td>Santiago de Surco</td>\n",
       "      <td>0.0</td>\n",
       "      <td>2.0</td>\n",
       "      <td>1</td>\n",
       "      <td>7</td>\n",
       "      <td>1</td>\n",
       "    </tr>\n",
       "    <tr>\n",
       "      <td>3024</td>\n",
       "      <td>1096</td>\n",
       "      <td>1178</td>\n",
       "      <td>611.53</td>\n",
       "      <td>3.0</td>\n",
       "      <td>120.0</td>\n",
       "      <td>2.0</td>\n",
       "      <td>Chorrillos</td>\n",
       "      <td>0.0</td>\n",
       "      <td>0.0</td>\n",
       "      <td>0</td>\n",
       "      <td>8</td>\n",
       "      <td>0</td>\n",
       "    </tr>\n",
       "    <tr>\n",
       "      <td>3025</td>\n",
       "      <td>235</td>\n",
       "      <td>254</td>\n",
       "      <td>750.00</td>\n",
       "      <td>1.0</td>\n",
       "      <td>54.0</td>\n",
       "      <td>1.0</td>\n",
       "      <td>San Isidro</td>\n",
       "      <td>2.0</td>\n",
       "      <td>2.0</td>\n",
       "      <td>0</td>\n",
       "      <td>7</td>\n",
       "      <td>1</td>\n",
       "    </tr>\n",
       "    <tr>\n",
       "      <td>3026</td>\n",
       "      <td>1061</td>\n",
       "      <td>1140</td>\n",
       "      <td>500.35</td>\n",
       "      <td>2.0</td>\n",
       "      <td>77.0</td>\n",
       "      <td>1.0</td>\n",
       "      <td>Jesus Maria</td>\n",
       "      <td>1.0</td>\n",
       "      <td>0.0</td>\n",
       "      <td>0</td>\n",
       "      <td>6</td>\n",
       "      <td>0</td>\n",
       "    </tr>\n",
       "  </tbody>\n",
       "</table>\n",
       "<p>3027 rows × 12 columns</p>\n",
       "</div>"
      ],
      "text/plain": [
       "      index  Unnamed: 0   Precio  NCuartos   Area  NBaños           Distrito  \\\n",
       "0      1865        2049   570.00       3.0   60.0     2.0          Surquillo   \n",
       "1       613         662   444.75       1.0   40.0     1.0  Santiago de Surco   \n",
       "2      2136        2353   610.00       1.0   46.0     1.0         San Isidro   \n",
       "3       111         123   750.52       2.0  110.0     3.0  Magdalena del Mar   \n",
       "4      3463        3844  1350.00       2.0  140.0     1.0    Cercado de Lima   \n",
       "...     ...         ...      ...       ...    ...     ...                ...   \n",
       "3022   2763        3018  1616.12       3.0  175.0     2.0         San Isidro   \n",
       "3023    905         976  1400.00       4.0  177.0     4.0  Santiago de Surco   \n",
       "3024   1096        1178   611.53       3.0  120.0     2.0         Chorrillos   \n",
       "3025    235         254   750.00       1.0   54.0     1.0         San Isidro   \n",
       "3026   1061        1140   500.35       2.0   77.0     1.0        Jesus Maria   \n",
       "\n",
       "      Amoblado  Cochera  Azotea  zona  con_cochera  \n",
       "0          0.0      0.0       0     8            0  \n",
       "1          0.0      0.0       0     7            0  \n",
       "2          0.0      0.0       0     7            0  \n",
       "3          0.0      1.0       0     6            1  \n",
       "4          0.0      0.0       0     4            0  \n",
       "...        ...      ...     ...   ...          ...  \n",
       "3022       0.0      0.0       0     7            0  \n",
       "3023       0.0      2.0       1     7            1  \n",
       "3024       0.0      0.0       0     8            0  \n",
       "3025       2.0      2.0       0     7            1  \n",
       "3026       1.0      0.0       0     6            0  \n",
       "\n",
       "[3027 rows x 12 columns]"
      ]
     },
     "execution_count": 5,
     "metadata": {},
     "output_type": "execute_result"
    }
   ],
   "source": [
    "data_train=data_train.reset_index()\n",
    "data_test=data_test.reset_index()\n",
    "data_train"
   ]
  },
  {
   "cell_type": "markdown",
   "metadata": {},
   "source": [
    "## Entrenamiento del Modelo de R.L"
   ]
  },
  {
   "cell_type": "code",
   "execution_count": 6,
   "metadata": {},
   "outputs": [],
   "source": [
    "from sklearn.metrics import r2_score\n",
    "from sklearn import linear_model, tree\n",
    "from sklearn.linear_model import ElasticNet, ARDRegression, Ridge\n",
    "from sklearn.model_selection import KFold, GridSearchCV\n",
    "from sklearn.preprocessing  import StandardScaler\n",
    "from sklearn import neighbors"
   ]
  },
  {
   "cell_type": "code",
   "execution_count": 7,
   "metadata": {},
   "outputs": [
    {
     "name": "stdout",
     "output_type": "stream",
     "text": [
      "MEDIA: 0.6400624914888776 || MAXIMO :  0.6713537269576593 || MINIMO :  0.6172603054972285 || STD :  0.01862346188816048\n"
     ]
    }
   ],
   "source": [
    "y=data_train['Precio']\n",
    "x=data_train[['NCuartos' , 'Area','Cochera','NBaños','Amoblado','Azotea','zona',]]\n",
    "x_train=()\n",
    "x_testv=()\n",
    "y_train=()\n",
    "y_testv=()\n",
    "kf=KFold(n_splits = 7,shuffle=True)\n",
    "regr = neighbors.KNeighborsRegressor(24,weights='uniform')\n",
    "resultados=[]\n",
    "modelos = {}\n",
    "for train_index , test_index in kf.split(x):\n",
    "    x_train, x_testv = x.loc[train_index], x.loc[test_index]\n",
    "    y_train , y_testv=y[train_index], y[test_index]\n",
    "    scaler =StandardScaler()\n",
    "    scaler.fit(x_train)\n",
    "    x_train =scaler.transform(x_train)\n",
    "    x_testv=scaler.transform(x_testv)\n",
    "    regr.fit(x_train , y_train)\n",
    "    predicciones=regr.predict(x_testv)\n",
    "    regr.fit(x_train , y_train)\n",
    "    predicciones=regr.predict(x_testv)\n",
    "    #print ('Coef R2 :' ,r2_score(y_valid, predicciones))\n",
    "    resultados.append(r2_score(y_testv, predicciones))\n",
    "print('MEDIA:',np.mean(resultados) ,'|| MAXIMO : ', np.max(resultados),'|| MINIMO : ', np.min(resultados),'|| STD : ', np.std(resultados))"
   ]
  },
  {
   "cell_type": "code",
   "execution_count": null,
   "metadata": {},
   "outputs": [],
   "source": [
    "y=data_train['Precio']\n",
    "x=data_train[['NCuartos' , 'Area','Cochera','NBaños','Amoblado','Azotea','zona',]]\n",
    "x_train=()\n",
    "x_testv=()\n",
    "y_train=()\n",
    "y_testv=()"
   ]
  },
  {
   "cell_type": "code",
   "execution_count": 8,
   "metadata": {},
   "outputs": [
    {
     "name": "stdout",
     "output_type": "stream",
     "text": [
      "MEDIA: 0.5194786386711071 || MAXIMO :  0.5964747270651655 || MINIMO :  0.3328542595568782 || STD :  0.08570099995869945\n"
     ]
    }
   ],
   "source": [
    "y=data_train['Precio']\n",
    "x=data_train[['NCuartos' , 'Area','Cochera','NBaños','Amoblado','Azotea','zona',]]\n",
    "x_train=()\n",
    "x_testv=()\n",
    "y_train=()\n",
    "y_testv=()\n",
    "kf=KFold(n_splits = 7,shuffle=True)\n",
    "regr = linear_model.LinearRegression()\n",
    "resultados=[]\n",
    "for train_index , test_index in kf.split(x):\n",
    "    x_train, x_testv = x.loc[train_index], x.loc[test_index]\n",
    "    y_train , y_testv=y[train_index], y[test_index]\n",
    "    regr.fit(x_train , y_train)\n",
    "    predicciones=regr.predict(x_testv)\n",
    "    regr.fit(x_train , y_train)\n",
    "    predicciones=regr.predict(x_testv)\n",
    "    #print ('Coef R2 :' ,r2_score(y_valid, predicciones))\n",
    "    resultados.append(r2_score(y_testv, predicciones))\n",
    "print('MEDIA:',np.mean(resultados) ,'|| MAXIMO : ', np.max(resultados),'|| MINIMO : ', np.min(resultados),'|| STD : ', np.std(resultados))"
   ]
  },
  {
   "cell_type": "code",
   "execution_count": 9,
   "metadata": {},
   "outputs": [
    {
     "name": "stdout",
     "output_type": "stream",
     "text": [
      "MEDIA: 0.5237236081867024 || MAXIMO :  0.6297257684370174 || MINIMO :  0.3651831878140157 || STD :  0.0849958093946949\n"
     ]
    }
   ],
   "source": [
    "y=data_train['Precio']\n",
    "x=data_train[['NCuartos' , 'Area','NBaños','Amoblado','Azotea','zona', 'con_cochera']]\n",
    "x_train=()\n",
    "x_testv=()\n",
    "y_train=()\n",
    "y_testv=()\n",
    "kf=KFold(n_splits = 7,shuffle=True)\n",
    "regr = linear_model.LinearRegression()\n",
    "resultados=[]\n",
    "for train_index , test_index in kf.split(x):\n",
    "    x_train, x_testv = x.loc[train_index], x.loc[test_index]\n",
    "    y_train , y_testv=y[train_index], y[test_index]\n",
    "    scaler =StandardScaler()\n",
    "    scaler.fit(x_train)\n",
    "    x_train =scaler.transform(x_train)\n",
    "    x_testv=scaler.transform(x_testv)\n",
    "    regr.fit(x_train , y_train)\n",
    "    predicciones=regr.predict(x_testv)\n",
    "    regr.fit(x_train , y_train)\n",
    "    predicciones=regr.predict(x_testv)\n",
    "    #print ('Coef R2 :' ,r2_score(y_valid, predicciones))\n",
    "    resultados.append(r2_score(y_testv, predicciones))\n",
    "print('MEDIA:',np.mean(resultados) ,'|| MAXIMO : ', np.max(resultados),'|| MINIMO : ', np.min(resultados),'|| STD : ', np.std(resultados))"
   ]
  },
  {
   "cell_type": "code",
   "execution_count": 10,
   "metadata": {},
   "outputs": [
    {
     "name": "stdout",
     "output_type": "stream",
     "text": [
      "MEDIA: 0.5276989881428371 || MAXIMO :  0.6297120702039781 || MINIMO :  0.4125694293377249 || STD :  0.07654609413805391\n"
     ]
    }
   ],
   "source": [
    "y=data_train['Precio']\n",
    "x=data_train[['NCuartos' , 'Area','NBaños','Amoblado','Azotea','zona', 'con_cochera']]\n",
    "x_train=()\n",
    "x_testv=()\n",
    "y_train=()\n",
    "y_testv=()\n",
    "kf=KFold(n_splits = 7,shuffle=True)\n",
    "regr = linear_model.LinearRegression()\n",
    "resultados=[]\n",
    "for train_index , test_index in kf.split(x):\n",
    "    x_train, x_testv = x.loc[train_index], x.loc[test_index]\n",
    "    y_train , y_testv=y[train_index], y[test_index]\n",
    "    regr.fit(x_train , y_train)\n",
    "    predicciones=regr.predict(x_testv)\n",
    "    regr.fit(x_train , y_train)\n",
    "    predicciones=regr.predict(x_testv)\n",
    "    #print ('Coef R2 :' ,r2_score(y_valid, predicciones))\n",
    "    resultados.append(r2_score(y_testv, predicciones))\n",
    "print('MEDIA:',np.mean(resultados) ,'|| MAXIMO : ', np.max(resultados),'|| MINIMO : ', np.min(resultados),'|| STD : ', np.std(resultados))"
   ]
  },
  {
   "cell_type": "markdown",
   "metadata": {},
   "source": [
    "## Entrenamiento de Red Neuronal"
   ]
  },
  {
   "cell_type": "code",
   "execution_count": 11,
   "metadata": {},
   "outputs": [],
   "source": [
    "#from sklearn.neural_network import MLPRegressor\n",
    "#from sklearn.metrics import r2_score"
   ]
  },
  {
   "cell_type": "code",
   "execution_count": 12,
   "metadata": {},
   "outputs": [],
   "source": [
    "#y=data_train['Precio']\n",
    "#x=data_train[['NCuartos' , 'Area','NBaños','Amoblado','Azotea','zona', 'Cochera']]\n",
    "#x_train=()\n",
    "#x_testv=()\n",
    "#y_train=()\n",
    "#y_testv=()\n",
    "#x_train,x_testv, y_train, y_testv = train_test_split (x ,y , test_size=.2,random_state=10)\n",
    "#scaler =StandardScaler()\n",
    "#scaler.fit(x_train)\n",
    "\n",
    "#x_train =scaler.transform(x_train)\n",
    "#x_testv=scaler.transform(x_testv)"
   ]
  },
  {
   "cell_type": "code",
   "execution_count": 13,
   "metadata": {},
   "outputs": [],
   "source": [
    "#alphas=[0.00001,0.0001,0.001,0.01,0.1]\n",
    "#layers=[5, 10,50, 100]\n",
    "#solvers=['lbfgs','adam']\n",
    "\n",
    "#resultado_frame=pd.DataFrame({'r2':[],'solver':[],'layer':[],'alpha':[]})\n",
    "#for alpha in alphas:\n",
    " #   for layer in layers:\n",
    "  #      for solver in solvers:\n",
    "   #         clf=MLPRegressor(solver=solver,alpha=alpha,hidden_layer_sizes=(layer,),warm_start=True,max_iter=100000)\n",
    "    #        model=clf.fit(x_train,y_train)\n",
    "     #       predictions=model.predict(x_testv)\n",
    "      #      r2=r2_score(y_testv, predictions)\n",
    "       #     print ('R CUADRADO :', r2_score(y_testv, predictions), 'solver:', solver, 'layer', layer, 'alpha',alpha)\n",
    "        #    resultados.append({'r2': r2,'solver':[solver],'layer':[layer],'alpha':[alpha]})"
   ]
  },
  {
   "cell_type": "code",
   "execution_count": null,
   "metadata": {},
   "outputs": [],
   "source": []
  }
 ],
 "metadata": {
  "kernelspec": {
   "display_name": "Python 3",
   "language": "python",
   "name": "python3"
  },
  "language_info": {
   "codemirror_mode": {
    "name": "ipython",
    "version": 3
   },
   "file_extension": ".py",
   "mimetype": "text/x-python",
   "name": "python",
   "nbconvert_exporter": "python",
   "pygments_lexer": "ipython3",
   "version": "3.7.4"
  }
 },
 "nbformat": 4,
 "nbformat_minor": 4
}
