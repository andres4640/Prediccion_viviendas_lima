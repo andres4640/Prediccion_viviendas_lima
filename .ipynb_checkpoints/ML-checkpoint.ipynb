{
 "cells": [
  {
   "cell_type": "code",
   "execution_count": 1,
   "metadata": {},
   "outputs": [],
   "source": [
    "import pandas as pd\n",
    "import numpy as np"
   ]
  },
  {
   "cell_type": "code",
   "execution_count": 2,
   "metadata": {},
   "outputs": [],
   "source": [
    "dataset = pd.read_csv(\"clean_data.csv\", index_col=0)\n",
    "dataset = dataset.drop(columns={\"zona\"}, axis=1)"
   ]
  },
  {
   "cell_type": "code",
   "execution_count": 3,
   "metadata": {},
   "outputs": [
    {
     "data": {
      "text/html": [
       "<div>\n",
       "<style scoped>\n",
       "    .dataframe tbody tr th:only-of-type {\n",
       "        vertical-align: middle;\n",
       "    }\n",
       "\n",
       "    .dataframe tbody tr th {\n",
       "        vertical-align: top;\n",
       "    }\n",
       "\n",
       "    .dataframe thead th {\n",
       "        text-align: right;\n",
       "    }\n",
       "</style>\n",
       "<table border=\"1\" class=\"dataframe\">\n",
       "  <thead>\n",
       "    <tr style=\"text-align: right;\">\n",
       "      <th></th>\n",
       "      <th>Precio</th>\n",
       "      <th>NCuartos</th>\n",
       "      <th>Area</th>\n",
       "      <th>NBaños</th>\n",
       "      <th>Distrito</th>\n",
       "      <th>Amoblado</th>\n",
       "      <th>Cochera</th>\n",
       "      <th>Azotea</th>\n",
       "      <th>con_cochera</th>\n",
       "    </tr>\n",
       "  </thead>\n",
       "  <tbody>\n",
       "    <tr>\n",
       "      <td>0</td>\n",
       "      <td>860.00</td>\n",
       "      <td>3.0</td>\n",
       "      <td>90.0</td>\n",
       "      <td>2.5</td>\n",
       "      <td>San Isidro</td>\n",
       "      <td>1.0</td>\n",
       "      <td>1.0</td>\n",
       "      <td>0</td>\n",
       "      <td>1</td>\n",
       "    </tr>\n",
       "    <tr>\n",
       "      <td>1</td>\n",
       "      <td>850.00</td>\n",
       "      <td>3.0</td>\n",
       "      <td>125.0</td>\n",
       "      <td>3.0</td>\n",
       "      <td>Santiago de Surco</td>\n",
       "      <td>2.0</td>\n",
       "      <td>1.0</td>\n",
       "      <td>1</td>\n",
       "      <td>1</td>\n",
       "    </tr>\n",
       "    <tr>\n",
       "      <td>2</td>\n",
       "      <td>1100.00</td>\n",
       "      <td>1.0</td>\n",
       "      <td>70.0</td>\n",
       "      <td>1.0</td>\n",
       "      <td>San Isidro</td>\n",
       "      <td>2.0</td>\n",
       "      <td>1.0</td>\n",
       "      <td>0</td>\n",
       "      <td>1</td>\n",
       "    </tr>\n",
       "    <tr>\n",
       "      <td>3</td>\n",
       "      <td>1000.00</td>\n",
       "      <td>3.0</td>\n",
       "      <td>115.0</td>\n",
       "      <td>3.0</td>\n",
       "      <td>Santiago de Surco</td>\n",
       "      <td>2.0</td>\n",
       "      <td>1.0</td>\n",
       "      <td>0</td>\n",
       "      <td>1</td>\n",
       "    </tr>\n",
       "    <tr>\n",
       "      <td>4</td>\n",
       "      <td>486.45</td>\n",
       "      <td>3.0</td>\n",
       "      <td>95.0</td>\n",
       "      <td>2.0</td>\n",
       "      <td>Santiago de Surco</td>\n",
       "      <td>0.0</td>\n",
       "      <td>3.0</td>\n",
       "      <td>0</td>\n",
       "      <td>1</td>\n",
       "    </tr>\n",
       "    <tr>\n",
       "      <td>...</td>\n",
       "      <td>...</td>\n",
       "      <td>...</td>\n",
       "      <td>...</td>\n",
       "      <td>...</td>\n",
       "      <td>...</td>\n",
       "      <td>...</td>\n",
       "      <td>...</td>\n",
       "      <td>...</td>\n",
       "      <td>...</td>\n",
       "    </tr>\n",
       "    <tr>\n",
       "      <td>3947</td>\n",
       "      <td>1200.00</td>\n",
       "      <td>1.0</td>\n",
       "      <td>98.0</td>\n",
       "      <td>1.0</td>\n",
       "      <td>Miraflores</td>\n",
       "      <td>0.0</td>\n",
       "      <td>0.0</td>\n",
       "      <td>0</td>\n",
       "      <td>0</td>\n",
       "    </tr>\n",
       "    <tr>\n",
       "      <td>3948</td>\n",
       "      <td>850.00</td>\n",
       "      <td>1.0</td>\n",
       "      <td>116.0</td>\n",
       "      <td>1.5</td>\n",
       "      <td>Santiago de Surco</td>\n",
       "      <td>0.0</td>\n",
       "      <td>0.0</td>\n",
       "      <td>0</td>\n",
       "      <td>0</td>\n",
       "    </tr>\n",
       "    <tr>\n",
       "      <td>3949</td>\n",
       "      <td>1300.00</td>\n",
       "      <td>3.0</td>\n",
       "      <td>135.0</td>\n",
       "      <td>3.0</td>\n",
       "      <td>Santiago de Surco</td>\n",
       "      <td>0.0</td>\n",
       "      <td>0.0</td>\n",
       "      <td>0</td>\n",
       "      <td>0</td>\n",
       "    </tr>\n",
       "    <tr>\n",
       "      <td>3951</td>\n",
       "      <td>1600.00</td>\n",
       "      <td>3.0</td>\n",
       "      <td>130.0</td>\n",
       "      <td>3.5</td>\n",
       "      <td>San Isidro</td>\n",
       "      <td>0.0</td>\n",
       "      <td>0.0</td>\n",
       "      <td>0</td>\n",
       "      <td>0</td>\n",
       "    </tr>\n",
       "    <tr>\n",
       "      <td>3952</td>\n",
       "      <td>1200.00</td>\n",
       "      <td>1.0</td>\n",
       "      <td>90.0</td>\n",
       "      <td>2.0</td>\n",
       "      <td>San Isidro</td>\n",
       "      <td>0.0</td>\n",
       "      <td>0.0</td>\n",
       "      <td>0</td>\n",
       "      <td>0</td>\n",
       "    </tr>\n",
       "  </tbody>\n",
       "</table>\n",
       "<p>3562 rows × 9 columns</p>\n",
       "</div>"
      ],
      "text/plain": [
       "       Precio  NCuartos   Area  NBaños           Distrito  Amoblado  Cochera  \\\n",
       "0      860.00       3.0   90.0     2.5         San Isidro       1.0      1.0   \n",
       "1      850.00       3.0  125.0     3.0  Santiago de Surco       2.0      1.0   \n",
       "2     1100.00       1.0   70.0     1.0         San Isidro       2.0      1.0   \n",
       "3     1000.00       3.0  115.0     3.0  Santiago de Surco       2.0      1.0   \n",
       "4      486.45       3.0   95.0     2.0  Santiago de Surco       0.0      3.0   \n",
       "...       ...       ...    ...     ...                ...       ...      ...   \n",
       "3947  1200.00       1.0   98.0     1.0         Miraflores       0.0      0.0   \n",
       "3948   850.00       1.0  116.0     1.5  Santiago de Surco       0.0      0.0   \n",
       "3949  1300.00       3.0  135.0     3.0  Santiago de Surco       0.0      0.0   \n",
       "3951  1600.00       3.0  130.0     3.5         San Isidro       0.0      0.0   \n",
       "3952  1200.00       1.0   90.0     2.0         San Isidro       0.0      0.0   \n",
       "\n",
       "      Azotea  con_cochera  \n",
       "0          0            1  \n",
       "1          1            1  \n",
       "2          0            1  \n",
       "3          0            1  \n",
       "4          0            1  \n",
       "...      ...          ...  \n",
       "3947       0            0  \n",
       "3948       0            0  \n",
       "3949       0            0  \n",
       "3951       0            0  \n",
       "3952       0            0  \n",
       "\n",
       "[3562 rows x 9 columns]"
      ]
     },
     "execution_count": 3,
     "metadata": {},
     "output_type": "execute_result"
    }
   ],
   "source": [
    "dataset"
   ]
  },
  {
   "cell_type": "code",
   "execution_count": 4,
   "metadata": {
    "scrolled": true
   },
   "outputs": [
    {
     "data": {
      "text/html": [
       "<div>\n",
       "<style scoped>\n",
       "    .dataframe tbody tr th:only-of-type {\n",
       "        vertical-align: middle;\n",
       "    }\n",
       "\n",
       "    .dataframe tbody tr th {\n",
       "        vertical-align: top;\n",
       "    }\n",
       "\n",
       "    .dataframe thead th {\n",
       "        text-align: right;\n",
       "    }\n",
       "</style>\n",
       "<table border=\"1\" class=\"dataframe\">\n",
       "  <thead>\n",
       "    <tr style=\"text-align: right;\">\n",
       "      <th></th>\n",
       "      <th>Precio</th>\n",
       "      <th>NCuartos</th>\n",
       "      <th>Area</th>\n",
       "      <th>NBaños</th>\n",
       "      <th>Amoblado</th>\n",
       "      <th>Cochera</th>\n",
       "      <th>Azotea</th>\n",
       "      <th>con_cochera</th>\n",
       "    </tr>\n",
       "  </thead>\n",
       "  <tbody>\n",
       "    <tr>\n",
       "      <td>count</td>\n",
       "      <td>3562.000000</td>\n",
       "      <td>3562.000000</td>\n",
       "      <td>3562.000000</td>\n",
       "      <td>3562.000000</td>\n",
       "      <td>3562.000000</td>\n",
       "      <td>3562.000000</td>\n",
       "      <td>3562.000000</td>\n",
       "      <td>3562.000000</td>\n",
       "    </tr>\n",
       "    <tr>\n",
       "      <td>mean</td>\n",
       "      <td>883.377434</td>\n",
       "      <td>2.344189</td>\n",
       "      <td>106.256317</td>\n",
       "      <td>2.116929</td>\n",
       "      <td>0.409882</td>\n",
       "      <td>0.287760</td>\n",
       "      <td>0.054183</td>\n",
       "      <td>0.215890</td>\n",
       "    </tr>\n",
       "    <tr>\n",
       "      <td>std</td>\n",
       "      <td>442.179060</td>\n",
       "      <td>0.829806</td>\n",
       "      <td>56.067549</td>\n",
       "      <td>0.869553</td>\n",
       "      <td>0.783065</td>\n",
       "      <td>0.598145</td>\n",
       "      <td>0.226410</td>\n",
       "      <td>0.411496</td>\n",
       "    </tr>\n",
       "    <tr>\n",
       "      <td>min</td>\n",
       "      <td>45.000000</td>\n",
       "      <td>1.000000</td>\n",
       "      <td>1.000000</td>\n",
       "      <td>1.000000</td>\n",
       "      <td>0.000000</td>\n",
       "      <td>0.000000</td>\n",
       "      <td>0.000000</td>\n",
       "      <td>0.000000</td>\n",
       "    </tr>\n",
       "    <tr>\n",
       "      <td>25%</td>\n",
       "      <td>555.940000</td>\n",
       "      <td>2.000000</td>\n",
       "      <td>70.000000</td>\n",
       "      <td>1.500000</td>\n",
       "      <td>0.000000</td>\n",
       "      <td>0.000000</td>\n",
       "      <td>0.000000</td>\n",
       "      <td>0.000000</td>\n",
       "    </tr>\n",
       "    <tr>\n",
       "      <td>50%</td>\n",
       "      <td>800.000000</td>\n",
       "      <td>2.000000</td>\n",
       "      <td>95.000000</td>\n",
       "      <td>2.000000</td>\n",
       "      <td>0.000000</td>\n",
       "      <td>0.000000</td>\n",
       "      <td>0.000000</td>\n",
       "      <td>0.000000</td>\n",
       "    </tr>\n",
       "    <tr>\n",
       "      <td>75%</td>\n",
       "      <td>1100.000000</td>\n",
       "      <td>3.000000</td>\n",
       "      <td>126.000000</td>\n",
       "      <td>3.000000</td>\n",
       "      <td>0.000000</td>\n",
       "      <td>0.000000</td>\n",
       "      <td>0.000000</td>\n",
       "      <td>0.000000</td>\n",
       "    </tr>\n",
       "    <tr>\n",
       "      <td>max</td>\n",
       "      <td>2244.610000</td>\n",
       "      <td>4.000000</td>\n",
       "      <td>806.000000</td>\n",
       "      <td>5.000000</td>\n",
       "      <td>2.000000</td>\n",
       "      <td>3.000000</td>\n",
       "      <td>1.000000</td>\n",
       "      <td>1.000000</td>\n",
       "    </tr>\n",
       "  </tbody>\n",
       "</table>\n",
       "</div>"
      ],
      "text/plain": [
       "            Precio     NCuartos         Area       NBaños     Amoblado  \\\n",
       "count  3562.000000  3562.000000  3562.000000  3562.000000  3562.000000   \n",
       "mean    883.377434     2.344189   106.256317     2.116929     0.409882   \n",
       "std     442.179060     0.829806    56.067549     0.869553     0.783065   \n",
       "min      45.000000     1.000000     1.000000     1.000000     0.000000   \n",
       "25%     555.940000     2.000000    70.000000     1.500000     0.000000   \n",
       "50%     800.000000     2.000000    95.000000     2.000000     0.000000   \n",
       "75%    1100.000000     3.000000   126.000000     3.000000     0.000000   \n",
       "max    2244.610000     4.000000   806.000000     5.000000     2.000000   \n",
       "\n",
       "           Cochera       Azotea  con_cochera  \n",
       "count  3562.000000  3562.000000  3562.000000  \n",
       "mean      0.287760     0.054183     0.215890  \n",
       "std       0.598145     0.226410     0.411496  \n",
       "min       0.000000     0.000000     0.000000  \n",
       "25%       0.000000     0.000000     0.000000  \n",
       "50%       0.000000     0.000000     0.000000  \n",
       "75%       0.000000     0.000000     0.000000  \n",
       "max       3.000000     1.000000     1.000000  "
      ]
     },
     "execution_count": 4,
     "metadata": {},
     "output_type": "execute_result"
    }
   ],
   "source": [
    "dataset.describe()"
   ]
  },
  {
   "cell_type": "code",
   "execution_count": 5,
   "metadata": {},
   "outputs": [
    {
     "data": {
      "text/plain": [
       "Miraflores                 1118\n",
       "Santiago de Surco           523\n",
       "San Isidro                  454\n",
       "Barranco                    210\n",
       "San Borja                   174\n",
       "San Miguel                  150\n",
       "La Molina                   121\n",
       "Magdalena del Mar           116\n",
       "Lince                       107\n",
       "Surquillo                   100\n",
       "Jesus Maria                  88\n",
       "Cercado de Lima              71\n",
       "Chorrillos                   63\n",
       "Pueblo Libre                 61\n",
       "Los Olivos                   33\n",
       "Ate                          27\n",
       "San Martin de Porres         27\n",
       "Breña                        19\n",
       "San Juan de Miraflores       17\n",
       "San Juan de Lurigancho       15\n",
       "La Victoria                  14\n",
       "Comas                        11\n",
       "El Agustino                   8\n",
       "Chaclacayo                    6\n",
       "San Luis                      5\n",
       "Puente Piedra                 5\n",
       "Villa El Salvador             4\n",
       "Santa Anita                   4\n",
       "Villa Maria del Triunfo       4\n",
       "Carabayllo                    3\n",
       "Rimac                         2\n",
       "Lurin                         1\n",
       "Independencia                 1\n",
       "Name: Distrito, dtype: int64"
      ]
     },
     "execution_count": 5,
     "metadata": {},
     "output_type": "execute_result"
    }
   ],
   "source": [
    "dataset.Distrito.value_counts()"
   ]
  },
  {
   "cell_type": "code",
   "execution_count": 6,
   "metadata": {},
   "outputs": [
    {
     "data": {
      "text/plain": [
       "Miraflores                 0.313869\n",
       "Santiago de Surco          0.146828\n",
       "San Isidro                 0.127456\n",
       "Barranco                   0.058956\n",
       "San Borja                  0.048849\n",
       "San Miguel                 0.042111\n",
       "La Molina                  0.033970\n",
       "Magdalena del Mar          0.032566\n",
       "Lince                      0.030039\n",
       "Surquillo                  0.028074\n",
       "Jesus Maria                0.024705\n",
       "Cercado de Lima            0.019933\n",
       "Chorrillos                 0.017687\n",
       "Pueblo Libre               0.017125\n",
       "Los Olivos                 0.009264\n",
       "Ate                        0.007580\n",
       "San Martin de Porres       0.007580\n",
       "Breña                      0.005334\n",
       "San Juan de Miraflores     0.004773\n",
       "San Juan de Lurigancho     0.004211\n",
       "La Victoria                0.003930\n",
       "Comas                      0.003088\n",
       "El Agustino                0.002246\n",
       "Chaclacayo                 0.001684\n",
       "San Luis                   0.001404\n",
       "Puente Piedra              0.001404\n",
       "Villa El Salvador          0.001123\n",
       "Santa Anita                0.001123\n",
       "Villa Maria del Triunfo    0.001123\n",
       "Carabayllo                 0.000842\n",
       "Rimac                      0.000561\n",
       "Lurin                      0.000281\n",
       "Independencia              0.000281\n",
       "Name: Distrito, dtype: float64"
      ]
     },
     "execution_count": 6,
     "metadata": {},
     "output_type": "execute_result"
    }
   ],
   "source": [
    "dataset.Distrito.value_counts(normalize = True)"
   ]
  },
  {
   "cell_type": "markdown",
   "metadata": {},
   "source": [
    "Eliminamos los distritos que tengan menos de 10 ocurrencias:"
   ]
  },
  {
   "cell_type": "code",
   "execution_count": 7,
   "metadata": {},
   "outputs": [],
   "source": [
    "mask = dataset.Distrito.value_counts()\n",
    "distritos_rem = dataset.Distrito.value_counts()[mask > 10].index\n",
    "dataset = dataset[dataset[\"Distrito\"].isin(distritos_rem)]"
   ]
  },
  {
   "cell_type": "code",
   "execution_count": 8,
   "metadata": {},
   "outputs": [
    {
     "name": "stderr",
     "output_type": "stream",
     "text": [
      "C:\\Users\\Andres\\Anaconda3\\lib\\site-packages\\ipykernel_launcher.py:1: SettingWithCopyWarning: \n",
      "A value is trying to be set on a copy of a slice from a DataFrame.\n",
      "Try using .loc[row_indexer,col_indexer] = value instead\n",
      "\n",
      "See the caveats in the documentation: http://pandas.pydata.org/pandas-docs/stable/user_guide/indexing.html#returning-a-view-versus-a-copy\n",
      "  \"\"\"Entry point for launching an IPython kernel.\n"
     ]
    }
   ],
   "source": [
    "dataset[\"DistritoFinal\"] =  dataset[\"Distrito\"]\n",
    "dataset = dataset.drop(columns={\"Distrito\", \"con_cochera\"}, axis=1)"
   ]
  },
  {
   "cell_type": "code",
   "execution_count": 9,
   "metadata": {},
   "outputs": [],
   "source": [
    "columnas = [\"NCuartos\",\"Area\",\"NBaños\", \"Amoblado\", \"Cochera\", \"Azotea\", \"DistritoFinal\"]\n",
    "x = np.array(dataset[columnas])\n",
    "y = np.array(dataset[\"Precio\"])"
   ]
  },
  {
   "cell_type": "markdown",
   "metadata": {},
   "source": [
    "# Data Pre-processing\n",
    "\n",
    "Aplicar One Hot Encoding:\n",
    "- Distrito\n",
    "\n",
    "Aplicar Feature Scaling:\n",
    "- Precio\n",
    "- NCuartos\n",
    "- Area\n",
    "- NBaños\n",
    "- Amoblado\n",
    "- Cochera\n"
   ]
  },
  {
   "cell_type": "markdown",
   "metadata": {},
   "source": [
    "## One Hot Encoding"
   ]
  },
  {
   "cell_type": "code",
   "execution_count": 10,
   "metadata": {
    "scrolled": true
   },
   "outputs": [
    {
     "name": "stdout",
     "output_type": "stream",
     "text": [
      "[[0.0 0.0 0.0 ... 1.0 1.0 0]\n",
      " [0.0 0.0 0.0 ... 2.0 1.0 1]\n",
      " [0.0 0.0 0.0 ... 2.0 1.0 0]\n",
      " ...\n",
      " [0.0 0.0 0.0 ... 0.0 0.0 0]\n",
      " [0.0 0.0 0.0 ... 0.0 0.0 0]\n",
      " [0.0 0.0 0.0 ... 0.0 0.0 0]]\n"
     ]
    }
   ],
   "source": [
    "from sklearn.compose import ColumnTransformer\n",
    "from sklearn.preprocessing import OneHotEncoder\n",
    "\n",
    "ct = ColumnTransformer(transformers=[(\"encoder\", OneHotEncoder(), [6])], remainder=\"passthrough\", sparse_threshold=0)\n",
    "\n",
    "x = np.array(ct.fit_transform(x))\n",
    "\n",
    "print(x)"
   ]
  },
  {
   "cell_type": "markdown",
   "metadata": {},
   "source": [
    "# Dividir Dataset en Entrenamiento y Prueba"
   ]
  },
  {
   "cell_type": "code",
   "execution_count": 11,
   "metadata": {},
   "outputs": [],
   "source": [
    "from sklearn.model_selection import train_test_split\n",
    "\n",
    "x_train, x_test, y_train, y_test = train_test_split(x, y, test_size=0.2)"
   ]
  },
  {
   "cell_type": "markdown",
   "metadata": {},
   "source": [
    "# Aplicar Algoritmos"
   ]
  },
  {
   "cell_type": "markdown",
   "metadata": {},
   "source": [
    "Diccionario donde se guardaran la Media, Minimo, Maximo y la Desviación Estandar del R-Cuadrado"
   ]
  },
  {
   "cell_type": "code",
   "execution_count": 12,
   "metadata": {},
   "outputs": [],
   "source": [
    "resultados = {}"
   ]
  },
  {
   "cell_type": "markdown",
   "metadata": {},
   "source": [
    "## Linear Regression"
   ]
  },
  {
   "cell_type": "code",
   "execution_count": 13,
   "metadata": {},
   "outputs": [
    {
     "name": "stdout",
     "output_type": "stream",
     "text": [
      "{'Media': 0.6247791889185057, 'Min': 0.08272239843255325, 'Max': 0.7402483982116748, 'Std': 0.1858928125504417}\n"
     ]
    }
   ],
   "source": [
    "from sklearn.linear_model import LinearRegression, Lasso\n",
    "from sklearn.model_selection import cross_val_score\n",
    "lregressor = LinearRegression()\n",
    "lregressor.fit(x_train, y_train)\n",
    "\n",
    "resultado = cross_val_score(lregressor, x_train, y_train, scoring = \"r2\", cv=10)\n",
    "\n",
    "resultados[\"Linear Regression\"] = {\"Media\": np.mean(resultado), \n",
    "                                   \"Min\": np.min(resultado),\n",
    "                                   \"Max\": np.max(resultado),\n",
    "                                  \"Std\": np.std(resultado)}\n",
    "\n",
    "print(resultados[\"Linear Regression\"])"
   ]
  },
  {
   "cell_type": "markdown",
   "metadata": {},
   "source": [
    "## Lasso Regression"
   ]
  },
  {
   "cell_type": "code",
   "execution_count": 14,
   "metadata": {},
   "outputs": [
    {
     "name": "stdout",
     "output_type": "stream",
     "text": [
      "{'Media': 0.6184650022720949, 'Min': 0.07890683081608607, 'Max': 0.7381822028170573, 'Std': 0.18470990586921507}\n"
     ]
    }
   ],
   "source": [
    "lassoregressor = Lasso()\n",
    "lassoregressor.fit(x_train, y_train)\n",
    "\n",
    "resultado = cross_val_score(lassoregressor, x_train, y_train, scoring = \"r2\", cv=10)\n",
    "\n",
    "resultados[\"Lasso Regression\"] = {\"Media\": np.mean(resultado), \n",
    "                                   \"Min\": np.min(resultado),\n",
    "                                   \"Max\": np.max(resultado),\n",
    "                                  \"Std\": np.std(resultado)}\n",
    "\n",
    "print(resultados[\"Lasso Regression\"])"
   ]
  },
  {
   "cell_type": "markdown",
   "metadata": {},
   "source": [
    "## Polinomial Regression\n",
    "\n",
    "No funciona debido a Memoria Insuficiente"
   ]
  },
  {
   "cell_type": "markdown",
   "metadata": {},
   "source": [
    "from sklearn.preprocessing import PolynomialFeatures\n",
    "\n",
    "poly_reg = PolynomialFeatures(degree = 8)\n",
    "x_poly = poly_reg.fit_transform(x_train)\n",
    "\n",
    "polyregressor = LinearRegression()\n",
    "polyregressor.fit(x_poly,y_train)\n",
    "\n",
    "np.mean(cross_val_score(polyregressor, x_poly, y_train, scoring = \"r2\", cv=5))\n"
   ]
  },
  {
   "cell_type": "markdown",
   "metadata": {},
   "source": [
    "## Support Vector Regressor"
   ]
  },
  {
   "cell_type": "code",
   "execution_count": 15,
   "metadata": {},
   "outputs": [
    {
     "name": "stdout",
     "output_type": "stream",
     "text": [
      "[[1600.  ]\n",
      " [ 472.55]\n",
      " [ 361.36]\n",
      " ...\n",
      " [ 277.97]\n",
      " [ 694.93]\n",
      " [ 361.36]]\n"
     ]
    }
   ],
   "source": [
    "y_train_svr = np.reshape(y_train, (y_train.size, 1))\n",
    "print(y_train_svr)"
   ]
  },
  {
   "cell_type": "code",
   "execution_count": 16,
   "metadata": {},
   "outputs": [],
   "source": [
    "from sklearn.preprocessing import StandardScaler\n",
    "\n",
    "sc_x = StandardScaler()\n",
    "sc_y = StandardScaler()\n",
    "\n",
    "x_svr = sc_x.fit_transform(x_train)\n",
    "y_svr = sc_y.fit_transform(y_train_svr)"
   ]
  },
  {
   "cell_type": "code",
   "execution_count": 17,
   "metadata": {},
   "outputs": [
    {
     "name": "stderr",
     "output_type": "stream",
     "text": [
      "C:\\Users\\Andres\\Anaconda3\\lib\\site-packages\\sklearn\\svm\\base.py:193: FutureWarning: The default value of gamma will change from 'auto' to 'scale' in version 0.22 to account better for unscaled features. Set gamma explicitly to 'auto' or 'scale' to avoid this warning.\n",
      "  \"avoid this warning.\", FutureWarning)\n",
      "C:\\Users\\Andres\\Anaconda3\\lib\\site-packages\\sklearn\\svm\\base.py:193: FutureWarning: The default value of gamma will change from 'auto' to 'scale' in version 0.22 to account better for unscaled features. Set gamma explicitly to 'auto' or 'scale' to avoid this warning.\n",
      "  \"avoid this warning.\", FutureWarning)\n",
      "C:\\Users\\Andres\\Anaconda3\\lib\\site-packages\\sklearn\\svm\\base.py:193: FutureWarning: The default value of gamma will change from 'auto' to 'scale' in version 0.22 to account better for unscaled features. Set gamma explicitly to 'auto' or 'scale' to avoid this warning.\n",
      "  \"avoid this warning.\", FutureWarning)\n",
      "C:\\Users\\Andres\\Anaconda3\\lib\\site-packages\\sklearn\\svm\\base.py:193: FutureWarning: The default value of gamma will change from 'auto' to 'scale' in version 0.22 to account better for unscaled features. Set gamma explicitly to 'auto' or 'scale' to avoid this warning.\n",
      "  \"avoid this warning.\", FutureWarning)\n",
      "C:\\Users\\Andres\\Anaconda3\\lib\\site-packages\\sklearn\\svm\\base.py:193: FutureWarning: The default value of gamma will change from 'auto' to 'scale' in version 0.22 to account better for unscaled features. Set gamma explicitly to 'auto' or 'scale' to avoid this warning.\n",
      "  \"avoid this warning.\", FutureWarning)\n",
      "C:\\Users\\Andres\\Anaconda3\\lib\\site-packages\\sklearn\\svm\\base.py:193: FutureWarning: The default value of gamma will change from 'auto' to 'scale' in version 0.22 to account better for unscaled features. Set gamma explicitly to 'auto' or 'scale' to avoid this warning.\n",
      "  \"avoid this warning.\", FutureWarning)\n",
      "C:\\Users\\Andres\\Anaconda3\\lib\\site-packages\\sklearn\\svm\\base.py:193: FutureWarning: The default value of gamma will change from 'auto' to 'scale' in version 0.22 to account better for unscaled features. Set gamma explicitly to 'auto' or 'scale' to avoid this warning.\n",
      "  \"avoid this warning.\", FutureWarning)\n",
      "C:\\Users\\Andres\\Anaconda3\\lib\\site-packages\\sklearn\\svm\\base.py:193: FutureWarning: The default value of gamma will change from 'auto' to 'scale' in version 0.22 to account better for unscaled features. Set gamma explicitly to 'auto' or 'scale' to avoid this warning.\n",
      "  \"avoid this warning.\", FutureWarning)\n",
      "C:\\Users\\Andres\\Anaconda3\\lib\\site-packages\\sklearn\\svm\\base.py:193: FutureWarning: The default value of gamma will change from 'auto' to 'scale' in version 0.22 to account better for unscaled features. Set gamma explicitly to 'auto' or 'scale' to avoid this warning.\n",
      "  \"avoid this warning.\", FutureWarning)\n",
      "C:\\Users\\Andres\\Anaconda3\\lib\\site-packages\\sklearn\\svm\\base.py:193: FutureWarning: The default value of gamma will change from 'auto' to 'scale' in version 0.22 to account better for unscaled features. Set gamma explicitly to 'auto' or 'scale' to avoid this warning.\n",
      "  \"avoid this warning.\", FutureWarning)\n"
     ]
    },
    {
     "name": "stdout",
     "output_type": "stream",
     "text": [
      "{'Media': 0.7266492296599462, 'Min': 0.6707789837020746, 'Max': 0.7771478512867056, 'Std': 0.03617867882261738}\n"
     ]
    }
   ],
   "source": [
    "from sklearn.svm import SVR\n",
    "\n",
    "svr_regressor = SVR(kernel = \"rbf\")\n",
    "svr_regressor.fit(x_svr, y_svr.ravel())\n",
    "\n",
    "resultado = cross_val_score(svr_regressor, x_svr, y_svr.ravel(), scoring = \"r2\", cv=10)\n",
    "resultados[\"SVR\"] = {\"Media\": np.mean(resultado), \n",
    "                                   \"Min\": np.min(resultado),\n",
    "                                   \"Max\": np.max(resultado),\n",
    "                                  \"Std\": np.std(resultado)}\n",
    "\n",
    "print(resultados[\"SVR\"])"
   ]
  },
  {
   "cell_type": "markdown",
   "metadata": {},
   "source": [
    "## Regression Trees"
   ]
  },
  {
   "cell_type": "code",
   "execution_count": 18,
   "metadata": {},
   "outputs": [
    {
     "name": "stdout",
     "output_type": "stream",
     "text": [
      "{'Media': 0.5439799381833875, 'Min': 0.4841835599724559, 'Max': 0.6257898271213826, 'Std': 0.05166459060545056}\n"
     ]
    }
   ],
   "source": [
    "from sklearn.tree import DecisionTreeRegressor\n",
    "tree_regressor = DecisionTreeRegressor()\n",
    "tree_regressor.fit(x_train, y_train)\n",
    "\n",
    "resultado = cross_val_score(tree_regressor, x_svr, y_svr, scoring = \"r2\", cv=10)\n",
    "resultados[\"Regression Trees\"] = {\"Media\": np.mean(resultado), \n",
    "                                   \"Min\": np.min(resultado),\n",
    "                                   \"Max\": np.max(resultado),\n",
    "                                  \"Std\": np.std(resultado)}\n",
    "\n",
    "print(resultados[\"Regression Trees\"])"
   ]
  },
  {
   "cell_type": "markdown",
   "metadata": {},
   "source": [
    "## Random Forest Regression"
   ]
  },
  {
   "cell_type": "code",
   "execution_count": 19,
   "metadata": {},
   "outputs": [
    {
     "name": "stdout",
     "output_type": "stream",
     "text": [
      "Best Accuracy:  0.7095711659274812\n",
      "Best Parameters:  {'max_depth': 10, 'n_estimators': 800}\n"
     ]
    }
   ],
   "source": [
    "from sklearn.ensemble import RandomForestRegressor\n",
    "from sklearn.model_selection import GridSearchCV\n",
    "\n",
    "parametros = [{'max_depth': range(1,15),\n",
    "               \"n_estimators\": [10,50,100,150,200,250,300,350,400,450,500, 600, 700, 800, 900, 1000, 1100, 1200, 1300,\n",
    "                               1400, 1500]}]\n",
    "\n",
    "grid_search = GridSearchCV(estimator = RandomForestRegressor(),\n",
    "                          param_grid = parametros,\n",
    "                          scoring = \"r2\",\n",
    "                          cv=5,\n",
    "                          n_jobs = -1)\n",
    "\n",
    "grid_search.fit(x_train, y_train)\n",
    "\n",
    "best_accuracy = grid_search.best_score_\n",
    "best_parameters = grid_search.best_params_\n",
    "\n",
    "print(\"Best Accuracy: \", best_accuracy)\n",
    "print(\"Best Parameters: \", best_parameters)"
   ]
  },
  {
   "cell_type": "code",
   "execution_count": 20,
   "metadata": {},
   "outputs": [
    {
     "name": "stdout",
     "output_type": "stream",
     "text": [
      "{'Media': 0.7160470330037019, 'Min': 0.6684477482713969, 'Max': 0.7727377502255844, 'Std': 0.02991679296804801}\n"
     ]
    }
   ],
   "source": [
    "forest_regressor = RandomForestRegressor(max_depth=best_parameters[\"max_depth\"],\n",
    "                                         n_estimators=best_parameters[\"n_estimators\"],\n",
    "                                         random_state=False, \n",
    "                                         verbose=False)\n",
    "resultado = cross_val_score(forest_regressor, x_train, y_train, scoring = \"r2\", cv=10)\n",
    "\n",
    "resultados[\"Random Forest\"] = {\"Media\": np.mean(resultado), \n",
    "                                   \"Min\": np.min(resultado),\n",
    "                                   \"Max\": np.max(resultado),\n",
    "                                  \"Std\": np.std(resultado)}\n",
    "\n",
    "print(resultados[\"Random Forest\"])"
   ]
  },
  {
   "cell_type": "code",
   "execution_count": 21,
   "metadata": {
    "scrolled": true
   },
   "outputs": [
    {
     "data": {
      "text/plain": [
       "{'Linear Regression': {'Media': 0.6247791889185057,\n",
       "  'Min': 0.08272239843255325,\n",
       "  'Max': 0.7402483982116748,\n",
       "  'Std': 0.1858928125504417},\n",
       " 'Lasso Regression': {'Media': 0.6184650022720949,\n",
       "  'Min': 0.07890683081608607,\n",
       "  'Max': 0.7381822028170573,\n",
       "  'Std': 0.18470990586921507},\n",
       " 'SVR': {'Media': 0.7266492296599462,\n",
       "  'Min': 0.6707789837020746,\n",
       "  'Max': 0.7771478512867056,\n",
       "  'Std': 0.03617867882261738},\n",
       " 'Regression Trees': {'Media': 0.5439799381833875,\n",
       "  'Min': 0.4841835599724559,\n",
       "  'Max': 0.6257898271213826,\n",
       "  'Std': 0.05166459060545056},\n",
       " 'Random Forest': {'Media': 0.7160470330037019,\n",
       "  'Min': 0.6684477482713969,\n",
       "  'Max': 0.7727377502255844,\n",
       "  'Std': 0.02991679296804801}}"
      ]
     },
     "execution_count": 21,
     "metadata": {},
     "output_type": "execute_result"
    }
   ],
   "source": [
    "resultados"
   ]
  }
 ],
 "metadata": {
  "kernelspec": {
   "display_name": "Python 3",
   "language": "python",
   "name": "python3"
  },
  "language_info": {
   "codemirror_mode": {
    "name": "ipython",
    "version": 3
   },
   "file_extension": ".py",
   "mimetype": "text/x-python",
   "name": "python",
   "nbconvert_exporter": "python",
   "pygments_lexer": "ipython3",
   "version": "3.7.4"
  }
 },
 "nbformat": 4,
 "nbformat_minor": 2
}
